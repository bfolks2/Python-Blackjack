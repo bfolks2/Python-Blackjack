{
 "cells": [
  {
   "cell_type": "code",
   "execution_count": 1,
   "metadata": {
    "collapsed": true
   },
   "outputs": [],
   "source": [
    "import random #For shuffling the deck\n",
    "\n",
    "suits = ['Spades','Clubs','Hearts','Diamonds']\n",
    "\n",
    "ranks = ['Ace','2','3','4','5','6','7','8','9','10','Jack','Queen','King']\n",
    "\n",
    "values = {'Ace':1, '2':2, '3':3, '4':4, '5':5, '6':6, '7':7, '8':8, '9':9, '10':10, 'Jack':10, 'Queen':10, 'King':10}"
   ]
  },
  {
   "cell_type": "code",
   "execution_count": 2,
   "metadata": {
    "collapsed": true
   },
   "outputs": [],
   "source": [
    "class Card(object):\n",
    "    \n",
    "    def __init__(self,rank,suit):\n",
    "        self.rank=rank\n",
    "        self.suit=suit\n",
    "    \n",
    "    def get_rank(self):\n",
    "        return self.rank\n",
    "    \n",
    "    def get_suit(self):\n",
    "        return self.suit\n",
    "    \n",
    "    def __str__(self):\n",
    "        return self.rank + \" of \" + self.suit"
   ]
  },
  {
   "cell_type": "code",
   "execution_count": 3,
   "metadata": {
    "collapsed": false
   },
   "outputs": [],
   "source": [
    "class Deck(object):\n",
    "    \n",
    "    def __init__(self):\n",
    "        self.deck=[]\n",
    "        for suit in suits:\n",
    "            for rank in ranks:\n",
    "                self.deck.append(Card(rank,suit))\n",
    "                \n",
    "    def shuffle(self):\n",
    "        random.shuffle(self.deck)\n",
    "        \n",
    "    def draw_card(self):\n",
    "        drawn_card = self.deck.pop()\n",
    "        return drawn_card\n",
    "    \n",
    "    def __str__(self):\n",
    "        deck_str=''\n",
    "        for card in self.deck:\n",
    "            deck_str = deck_str + card.rank + \" of \" + card.suit + \"   \"\n",
    "        \n",
    "        return deck_str    "
   ]
  },
  {
   "cell_type": "code",
   "execution_count": 171,
   "metadata": {
    "collapsed": false
   },
   "outputs": [],
   "source": [
    "class Hand(object):\n",
    "    \n",
    "    def __init__(self):\n",
    "        self.cards = []\n",
    "        self.ace = False\n",
    "        self.value = 0\n",
    "        \n",
    "    def __str__(self):\n",
    "        hand_str=''\n",
    "        for card in self.cards:\n",
    "            hand_str = hand_str + card.rank + ' of ' + card.suit + '   '\n",
    "            \n",
    "        return hand_str\n",
    "    \n",
    "    def add_card(self,card):\n",
    "        self.cards.append(card)\n",
    "        if card.rank == 'Ace':\n",
    "            self.ace=True\n",
    "        self.value = self.calc_value()\n",
    "        \n",
    "    def calc_value(self):\n",
    "        value=0\n",
    "        for card in self.cards:\n",
    "            value=value+values[card.rank]\n",
    "        if self.ace and value<12:\n",
    "            value=value+10\n",
    "        return value\n",
    "    \n",
    "    def show_hand(self,hidden):\n",
    "        if hidden==True:\n",
    "            starting_card=1\n",
    "            print 'Hidden Card'\n",
    "        else:\n",
    "            starting_card=0\n",
    "        for x in range(starting_card,len(self.cards)):\n",
    "            print self.cards[x].rank + ' of ' + self.cards[x].suit\n",
    "        "
   ]
  },
  {
   "cell_type": "code",
   "execution_count": 172,
   "metadata": {
    "collapsed": false
   },
   "outputs": [
    {
     "data": {
      "text/plain": [
       "1"
      ]
     },
     "execution_count": 172,
     "metadata": {},
     "output_type": "execute_result"
    }
   ],
   "source": [
    "values['Ace']"
   ]
  },
  {
   "cell_type": "code",
   "execution_count": 173,
   "metadata": {
    "collapsed": false
   },
   "outputs": [],
   "source": [
    "h=Hand()"
   ]
  },
  {
   "cell_type": "code",
   "execution_count": 174,
   "metadata": {
    "collapsed": true
   },
   "outputs": [],
   "source": [
    "d=Deck()"
   ]
  },
  {
   "cell_type": "code",
   "execution_count": 183,
   "metadata": {
    "collapsed": false
   },
   "outputs": [],
   "source": [
    "d.shuffle()\n",
    "h.add_card(d.draw_card())"
   ]
  },
  {
   "cell_type": "code",
   "execution_count": 184,
   "metadata": {
    "collapsed": false
   },
   "outputs": [
    {
     "name": "stdout",
     "output_type": "stream",
     "text": [
      "7 of Spades   3 of Diamonds   Jack of Diamonds   \n"
     ]
    }
   ],
   "source": [
    "print h"
   ]
  },
  {
   "cell_type": "code",
   "execution_count": 185,
   "metadata": {
    "collapsed": false
   },
   "outputs": [
    {
     "data": {
      "text/plain": [
       "20"
      ]
     },
     "execution_count": 185,
     "metadata": {},
     "output_type": "execute_result"
    }
   ],
   "source": [
    "h.value"
   ]
  },
  {
   "cell_type": "code",
   "execution_count": 187,
   "metadata": {
    "collapsed": false
   },
   "outputs": [
    {
     "name": "stdout",
     "output_type": "stream",
     "text": [
      "Hidden Card\n",
      "3 of Diamonds\n",
      "Jack of Diamonds\n"
     ]
    }
   ],
   "source": [
    "h.show_hand(True)"
   ]
  },
  {
   "cell_type": "code",
   "execution_count": null,
   "metadata": {
    "collapsed": true
   },
   "outputs": [],
   "source": []
  },
  {
   "cell_type": "code",
   "execution_count": null,
   "metadata": {
    "collapsed": true
   },
   "outputs": [],
   "source": []
  }
 ],
 "metadata": {
  "kernelspec": {
   "display_name": "Python 2",
   "language": "python",
   "name": "python2"
  },
  "language_info": {
   "codemirror_mode": {
    "name": "ipython",
    "version": 2
   },
   "file_extension": ".py",
   "mimetype": "text/x-python",
   "name": "python",
   "nbconvert_exporter": "python",
   "pygments_lexer": "ipython2",
   "version": "2.7.13"
  }
 },
 "nbformat": 4,
 "nbformat_minor": 2
}
